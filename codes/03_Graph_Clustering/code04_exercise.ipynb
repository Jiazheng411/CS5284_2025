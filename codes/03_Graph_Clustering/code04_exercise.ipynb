{
 "cells": [
  {
   "cell_type": "markdown",
   "metadata": {},
   "source": [
    "# Lecture : Graph Clustering\n",
    "\n",
    "## Lab 04 : NCut -- Solution\n",
    "\n",
    "### Xavier Bresson, Jiaming Wang\n"
   ]
  },
  {
   "cell_type": "code",
   "execution_count": null,
   "metadata": {},
   "outputs": [],
   "source": [
    "# For Google Colaboratory\n",
    "import sys, os\n",
    "if 'google.colab' in sys.modules:\n",
    "    # mount google drive\n",
    "    from google.colab import drive\n",
    "    drive.mount('/content/gdrive')\n",
    "    path_to_file = '/content/gdrive/My Drive/CS5284_2024_codes/codes/03_Graph_Clustering'\n",
    "    print(path_to_file)\n",
    "    # change current path to the folder containing \"path_to_file\"\n",
    "    os.chdir(path_to_file)\n",
    "    !pwd\n",
    "    "
   ]
  },
  {
   "cell_type": "code",
   "execution_count": null,
   "metadata": {},
   "outputs": [],
   "source": [
    "# Load libraries\n",
    "import numpy as np\n",
    "import scipy.io\n",
    "%matplotlib inline\n",
    "#%matplotlib notebook \n",
    "from matplotlib import pyplot\n",
    "import matplotlib.pyplot as plt\n",
    "import time\n",
    "import sys\n",
    "sys.path.insert(0, 'lib/')\n",
    "%load_ext autoreload\n",
    "%autoreload 2\n",
    "from lib.utils import construct_kernel\n",
    "from lib.utils import compute_kernel_kmeans_EM\n",
    "from lib.utils import compute_kernel_kmeans_spectral\n",
    "from lib.utils import compute_purity\n",
    "from lib.utils import construct_knn_graph\n",
    "from lib.utils import compute_ncut\n",
    "from lib.utils import compute_pcut\n",
    "from lib.utils import graph_laplacian\n",
    "import warnings; warnings.filterwarnings(\"ignore\")\n"
   ]
  },
  {
   "cell_type": "code",
   "execution_count": null,
   "metadata": {},
   "outputs": [],
   "source": [
    "# Load four-circle dataset\n",
    "mat = scipy.io.loadmat('datasets/four_circles.mat')\n",
    "X = mat['X']\n",
    "n = X.shape[0]\n",
    "d = X.shape[1]\n",
    "Cgt = mat['Cgt']-1; Cgt=Cgt.squeeze()\n",
    "nc = len(np.unique(Cgt))\n",
    "print('(n,d,nc:',n,d,nc)\n",
    "\n",
    "plt.figure(1)\n",
    "size_vertex_plot = 10\n",
    "plt.scatter(X[:,0], X[:,1], s=size_vertex_plot*np.ones(n), c=Cgt, color=pyplot.jet())\n",
    "plt.title('Ground truth communities of four concentric circles')\n",
    "plt.show()\n"
   ]
  },
  {
   "cell_type": "code",
   "execution_count": null,
   "metadata": {},
   "outputs": [],
   "source": [
    "# Run standard/linear k-means with EM approach\n",
    "Theta = np.ones(n) # Same weight for each data\n",
    "# Compute linear Kernel for standard K-Means\n",
    "Ker = construct_kernel(X, 'linear')\n",
    "# Standard K-Means\n",
    "C_kmeans, En_kmeans = compute_kernel_kmeans_EM(nc, Ker, Theta, 10)\n",
    "# Plot\n",
    "plt.figure(2)\n",
    "size_vertex_plot = 10\n",
    "plt.scatter(X[:,0], X[:,1], s=size_vertex_plot*np.ones(n), c=C_kmeans)\n",
    "plt.title('Standard K-Means solution.\\nAccuracy= ' + str(compute_purity(C_kmeans,Cgt,nc)) +\n",
    "         ', Energy= ' + str(En_kmeans))\n",
    "plt.show()\n"
   ]
  },
  {
   "cell_type": "code",
   "execution_count": null,
   "metadata": {},
   "outputs": [],
   "source": [
    "# Run kernel/non-linear k-means with spectral approach\n",
    "Ker = construct_kernel(X, 'kNN_gaussian', 100)\n",
    "# Kernel K-Means with Spectral approach\n",
    "C_kmeans, En_kmeans = compute_kernel_kmeans_spectral(nc, Ker, Theta)\n",
    "# Plot\n",
    "plt.figure(3)\n",
    "size_vertex_plot = 10\n",
    "plt.scatter(X[:,0], X[:,1], s=size_vertex_plot*np.ones(n), c=C_kmeans, color=pyplot.jet())\n",
    "plt.title('Kernel K-Means solution with Spectral.\\nAccuracy= ' + \n",
    "          str(compute_purity(C_kmeans,Cgt,nc)) + ', Energy= ' + str(En_kmeans))\n",
    "plt.show()\n"
   ]
  },
  {
   "cell_type": "markdown",
   "metadata": {},
   "source": [
    "### Question 1: Apply the spectral NCut technique with different k values on the k-NN Graph\n",
    "\n",
    "Experiment with the following values of k: {5, 10, 20, 40, 80}.\n",
    "\n",
    "Observe and explain what happens when k is small, resulting in sparse graphs, versus when k is large, leading to densely connected graphs.\n"
   ]
  },
  {
   "cell_type": "code",
   "execution_count": null,
   "metadata": {},
   "outputs": [],
   "source": [
    "# Run NCut\n",
    "k = # YOUR CODE HERE \n",
    "W = construct_knn_graph(X, k, 'euclidean_zelnik_perona')\n",
    "C_ncut, acc = compute_ncut(W, Cgt, nc)\n",
    "\n",
    "# Plot\n",
    "plt.figure(4)\n",
    "size_vertex_plot = 10\n",
    "plt.scatter(X[:,0], X[:,1], s=size_vertex_plot*np.ones(n), c=C_ncut, color=pyplot.jet())\n",
    "plt.title('NCut solution. Accuracy= ' + \n",
    "          str(compute_purity(C_ncut,Cgt,nc)) )\n",
    "plt.show()\n"
   ]
  },
  {
   "cell_type": "code",
   "execution_count": null,
   "metadata": {},
   "outputs": [],
   "source": []
  },
  {
   "cell_type": "code",
   "execution_count": null,
   "metadata": {},
   "outputs": [],
   "source": []
  }
 ],
 "metadata": {
  "kernelspec": {
   "display_name": "Python 3 (ipykernel)",
   "language": "python",
   "name": "python3"
  },
  "language_info": {
   "codemirror_mode": {
    "name": "ipython",
    "version": 3
   },
   "file_extension": ".py",
   "mimetype": "text/x-python",
   "name": "python",
   "nbconvert_exporter": "python",
   "pygments_lexer": "ipython3",
   "version": "3.8.19"
  }
 },
 "nbformat": 4,
 "nbformat_minor": 4
}
