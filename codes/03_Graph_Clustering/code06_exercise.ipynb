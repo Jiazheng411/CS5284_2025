{
 "cells": [
  {
   "cell_type": "markdown",
   "metadata": {},
   "source": [
    "# Lecture : Graph Clustering\n",
    "\n",
    "## Lab 06 : Louvain Algorithm -- Solution\n",
    "\n",
    "### Xavier Bresson, Jiaming Wang\n"
   ]
  },
  {
   "cell_type": "code",
   "execution_count": null,
   "metadata": {},
   "outputs": [],
   "source": [
    "# For Google Colaboratory\n",
    "import sys, os\n",
    "if 'google.colab' in sys.modules:\n",
    "    # mount google drive\n",
    "    from google.colab import drive\n",
    "    drive.mount('/content/gdrive')\n",
    "    path_to_file = '/content/gdrive/My Drive/CS5284_2024_codes/codes/03_Graph_Clustering'\n",
    "    print(path_to_file)\n",
    "    # change current path to the folder containing \"path_to_file\"\n",
    "    os.chdir(path_to_file)\n",
    "    !pwd\n",
    "    !pip install python-louvain==0.15 # install louvain\n",
    "    "
   ]
  },
  {
   "cell_type": "code",
   "execution_count": null,
   "metadata": {},
   "outputs": [],
   "source": [
    "# Load libraries\n",
    "import numpy as np\n",
    "import scipy.io\n",
    "%matplotlib inline\n",
    "#%matplotlib notebook \n",
    "from matplotlib import pyplot\n",
    "import matplotlib.pyplot as plt\n",
    "import time\n",
    "import sys; sys.path.insert(0, 'lib/')\n",
    "%load_ext autoreload\n",
    "%autoreload 2\n",
    "from lib.utils import construct_kernel\n",
    "from lib.utils import compute_kernel_kmeans_EM\n",
    "from lib.utils import compute_kernel_kmeans_spectral\n",
    "from lib.utils import compute_purity\n",
    "from lib.utils import construct_knn_graph\n",
    "from lib.utils import compute_ncut\n",
    "from lib.utils import compute_pcut\n",
    "from lib.utils import graph_laplacian\n",
    "import warnings; warnings.filterwarnings(\"ignore\")\n",
    "import community # Louvain algorithm\n",
    "import networkx as nx\n"
   ]
  },
  {
   "cell_type": "markdown",
   "metadata": {},
   "source": [
    "### Two-moon dataset"
   ]
  },
  {
   "cell_type": "code",
   "execution_count": null,
   "metadata": {},
   "outputs": [],
   "source": [
    "# Load two-circle dataset\n",
    "mat = scipy.io.loadmat('datasets/two_circles.mat')\n",
    "X = mat['X']\n",
    "n = X.shape[0]\n",
    "d = X.shape[1]\n",
    "Cgt = mat['Cgt']-1; Cgt=Cgt.squeeze()\n",
    "nc = len(np.unique(Cgt))\n",
    "print('n,d,nc:',n,d,nc)\n",
    "\n",
    "plt.figure(1)\n",
    "size_vertex_plot = 10\n",
    "plt.scatter(X[:,0], X[:,1], s=size_vertex_plot*np.ones(n), c=Cgt, cmap='jet')\n",
    "plt.title('Distribution of two circle distributions -- Non-linear data points')\n",
    "plt.show()\n"
   ]
  },
  {
   "cell_type": "markdown",
   "metadata": {},
   "source": [
    "### Question 1: Evaluate the Louvain technique\n",
    "\n",
    "How many \"optimal\" clusters does the Louvain method identify?\n",
    "\n",
    "What is the clustering accuracy achieved by the Louvain solution?\n",
    "\n",
    "Can you provide an explanation for the high accuracy?\n"
   ]
  },
  {
   "cell_type": "code",
   "execution_count": null,
   "metadata": {},
   "outputs": [],
   "source": [
    "# Run Louvain algorithm\n",
    "W = construct_knn_graph(X, 50, 'euclidean_zelnik_perona')\n",
    "Wnx = nx.from_numpy_array(W)\n",
    "partition = community.best_partition(Wnx)\n",
    "nc_louvain = len(np.unique( [partition[nodes] for nodes in partition.keys()] ))\n",
    "n = len(Wnx.nodes())\n",
    "print('nb_data:', n , ', nb_clusters=', nc_louvain)\n",
    "\n",
    "# Extract clusters\n",
    "Clouv = np.zeros([n])\n",
    "clusters = []\n",
    "k = 0\n",
    "for com in set(partition.values()):\n",
    "    list_nodes = [nodes for nodes in partition.keys() if partition[nodes] == com]\n",
    "    Clouv[list_nodes] = k\n",
    "    k += 1\n",
    "    clusters.append(list_nodes)\n",
    "    \n",
    "# Accuracy\n",
    "acc = compute_purity(Clouv,Cgt,nc_louvain)\n",
    "print('accuracy_louvain=',acc,' with nb_clusters=',nc_louvain)\n",
    "\n",
    "plt.figure(2)\n",
    "size_vertex_plot = 10\n",
    "plt.scatter(X[:,0], X[:,1], s=size_vertex_plot*np.ones(n), c=Clouv, cmap='jet')\n",
    "plt.title('Louvain solution')\n",
    "plt.show()\n"
   ]
  },
  {
   "cell_type": "markdown",
   "metadata": {},
   "source": [
    "### USPS dataset"
   ]
  },
  {
   "cell_type": "markdown",
   "metadata": {},
   "source": [
    "### Question 2: Compare the Louvain and spectral NCut solutions\n",
    "\n",
    "Compare the clustering results of the Louvain method with those of the spectral NCut technique, using the same number of clusters.\n",
    "\n",
    "How does the performance of the Spectral NCut technique change as the number of clusters increases?\n"
   ]
  },
  {
   "cell_type": "code",
   "execution_count": null,
   "metadata": {},
   "outputs": [],
   "source": [
    "# Load USPS dataset\n",
    "mat = scipy.io.loadmat('datasets/USPS.mat')\n",
    "W = mat['W']\n",
    "n = W.shape[0]\n",
    "Cgt = mat['Cgt']-1; Cgt=Cgt.squeeze()\n",
    "nc = len(np.unique(Cgt))\n",
    "print('n,nc:',n,nc)\n"
   ]
  },
  {
   "cell_type": "code",
   "execution_count": null,
   "metadata": {},
   "outputs": [],
   "source": [
    "# Random partitionning\n",
    "Crand = np.random.randint(0,nc,[n])\n",
    "acc = compute_purity(Crand,Cgt,nc)\n",
    "print('Random solution:', str(acc)[:5])\n",
    "\n",
    "# Run NCut\n",
    "Cncut, acc = compute_ncut(W,Cgt,nc) \n",
    "print('NCut solution:', str(acc)[:5])\n"
   ]
  },
  {
   "cell_type": "code",
   "execution_count": null,
   "metadata": {},
   "outputs": [],
   "source": [
    "# Run Louvain\n",
    "Wnx = nx.from_numpy_array(W.toarray())\n",
    "partition = community.best_partition(Wnx)\n",
    "nc_louvain = len(np.unique( [partition[nodes] for nodes in partition.keys()] ))\n",
    "n = len(Wnx.nodes())\n",
    "print('nb_data:', n , ', nb_clusters=', nc_louvain)\n",
    "\n",
    "# Extract clusters\n",
    "Clouv = np.zeros([n])\n",
    "clusters = []\n",
    "k = 0\n",
    "for com in set(partition.values()):\n",
    "    list_nodes = [nodes for nodes in partition.keys() if partition[nodes] == com]\n",
    "    Clouv[list_nodes] = k\n",
    "    k += 1\n",
    "    clusters.append(list_nodes)\n",
    "    \n",
    "# Accuracy\n",
    "acc = compute_purity(Clouv,Cgt,nc_louvain)\n",
    "print('Louvain solution ',str(acc)[:5],' with nb_clusters=',nc_louvain)\n"
   ]
  },
  {
   "cell_type": "code",
   "execution_count": null,
   "metadata": {},
   "outputs": [],
   "source": [
    "# Run NCut with the number of clusters found by Louvain\n",
    "Cncut, acc = compute_ncut(W,Cgt,nc_louvain)\n",
    "print('NCut solution:',str(acc)[:5],' with nb_clusters=',nc_louvain)\n"
   ]
  },
  {
   "cell_type": "code",
   "execution_count": null,
   "metadata": {},
   "outputs": [],
   "source": []
  },
  {
   "cell_type": "code",
   "execution_count": null,
   "metadata": {},
   "outputs": [],
   "source": []
  }
 ],
 "metadata": {
  "kernelspec": {
   "display_name": "Python 3 (ipykernel)",
   "language": "python",
   "name": "python3"
  },
  "language_info": {
   "codemirror_mode": {
    "name": "ipython",
    "version": 3
   },
   "file_extension": ".py",
   "mimetype": "text/x-python",
   "name": "python",
   "nbconvert_exporter": "python",
   "pygments_lexer": "ipython3",
   "version": "3.8.19"
  }
 },
 "nbformat": 4,
 "nbformat_minor": 4
}
