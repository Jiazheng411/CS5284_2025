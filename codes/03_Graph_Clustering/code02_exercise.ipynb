{
 "cells": [
  {
   "cell_type": "markdown",
   "metadata": {},
   "source": [
    "# Lecture : Graph Clustering\n",
    "\n",
    "## Lab 02 : Kernel k-means -- Exercise\n",
    "\n",
    "### Xavier Bresson, Jiaming Wang\n"
   ]
  },
  {
   "cell_type": "code",
   "execution_count": null,
   "metadata": {},
   "outputs": [],
   "source": [
    "# For Google Colaboratory\n",
    "import sys, os\n",
    "if 'google.colab' in sys.modules:\n",
    "    # mount google drive\n",
    "    from google.colab import drive\n",
    "    drive.mount('/content/gdrive')\n",
    "    path_to_file = '/content/gdrive/My Drive/CS5284_2024_codes/codes/03_Graph_Clustering'\n",
    "    print(path_to_file)\n",
    "    # change current path to the folder containing \"path_to_file\"\n",
    "    os.chdir(path_to_file)\n",
    "    !pwd\n",
    "    "
   ]
  },
  {
   "cell_type": "code",
   "execution_count": null,
   "metadata": {
    "collapsed": false,
    "jupyter": {
     "outputs_hidden": false
    }
   },
   "outputs": [],
   "source": [
    "# Load libraries\n",
    "import numpy as np\n",
    "import scipy.io\n",
    "%matplotlib inline \n",
    "import matplotlib.pyplot as plt\n",
    "import time\n",
    "import sys; sys.path.insert(0, 'lib/')\n",
    "%load_ext autoreload\n",
    "%autoreload 2\n",
    "from lib.utils import construct_kernel\n",
    "from lib.utils import compute_kernel_kmeans_EM\n",
    "from lib.utils import compute_kernel_kmeans_spectral\n",
    "from lib.utils import compute_purity\n",
    "from lib.utils import construct_knn_graph\n",
    "from lib.utils import compute_ncut\n",
    "from lib.utils import compute_pcut\n",
    "from lib.utils import graph_laplacian\n",
    "import warnings; warnings.filterwarnings(\"ignore\")\n"
   ]
  },
  {
   "cell_type": "code",
   "execution_count": null,
   "metadata": {
    "collapsed": false,
    "jupyter": {
     "outputs_hidden": false
    }
   },
   "outputs": [],
   "source": [
    "# Load two-circle dataset\n",
    "mat = scipy.io.loadmat('datasets/two_circles.mat') \n",
    "X = mat['X'] # (2000, 2), numpy.ndarray\n",
    "n = X.shape[0]\n",
    "d = X.shape[1]\n",
    "Cgt = mat['Cgt']-1; Cgt = Cgt.squeeze() # (2000,)\n",
    "nc = len(np.unique(Cgt)) # 2\n",
    "print('n,d,nc:',n,d,nc)\n",
    "\n",
    "plt.figure(1)\n",
    "size_vertex_plot = 10\n",
    "plt.scatter(X[:,0], X[:,1], s=size_vertex_plot*np.ones(n), c=Cgt, cmap='jet')\n",
    "plt.title('Distribution of two circle distributions -- Non-linear data points')\n",
    "plt.show()\n"
   ]
  },
  {
   "cell_type": "markdown",
   "metadata": {},
   "source": [
    "### Question 1: Evaluate the performance of *Linear* k-Means using Expectation-Maximization (EM) with multiple random initializations\n",
    "\n",
    "Use the following code: `compute_kernel_kmeans_EM(nc, Ker, Theta, n_trials)` with the input arguments:\n",
    "\n",
    "* nc : Number of clusters.\n",
    "* Ker : Kernel matrix of size n x n, where n is the number of data points.\n",
    "* Theta : Weight matrix of size n x n, typically a diagonal matrix with the weights of each data point.\n",
    "* n_trials : Number of runs for kernel k-means. The function returns the solution with the minimum final energy.\n",
    "\n",
    "How many runs are necessary to obtain the correct solution?\n"
   ]
  },
  {
   "cell_type": "code",
   "execution_count": null,
   "metadata": {
    "collapsed": false,
    "jupyter": {
     "outputs_hidden": false
    }
   },
   "outputs": [],
   "source": [
    "# Run standard/linear k-means\n",
    "Theta = np.ones(n) # Same weight for all data\n",
    "\n",
    "# Compute linear kernel for standard k-means\n",
    "Ker = construct_kernel(X, 'linear') # (2000, 2000)\n",
    "print(Ker.shape)\n",
    "\n",
    "# standard k-means\n",
    "n_trials = 10\n",
    "C_kmeans, En_kmeans = compute_kernel_kmeans_EM(# YOUR CODE HERE )\n",
    "\n",
    "# Plot\n",
    "plt.figure(2)\n",
    "size_vertex_plot = 10\n",
    "plt.scatter(X[:,0], X[:,1], s=size_vertex_plot*np.ones(n), c=C_kmeans, cmap='jet')\n",
    "plt.title('Standard k-means solution. Accuracy: ' + str(compute_purity(C_kmeans,Cgt,nc))[:5] +\n",
    "         ', Energy: ' + str(En_kmeans)[:5])\n",
    "plt.show()\n"
   ]
  },
  {
   "cell_type": "markdown",
   "metadata": {},
   "source": [
    "### Question 2: Evaluate the performance of *Non-Linear* k-Means using EM with multiple random initializations\n",
    "\n",
    "How many runs are necessary to achieve the correct solution?\n"
   ]
  },
  {
   "cell_type": "code",
   "execution_count": null,
   "metadata": {
    "collapsed": false,
    "jupyter": {
     "outputs_hidden": false
    }
   },
   "outputs": [],
   "source": [
    "# Run kernel/non-linear k-means with EM approach\n",
    " \n",
    "# Compute linear Kernel for standard k-means\n",
    "Ker = construct_kernel(X, 'kNN_gaussian', 100)\n",
    "print(Ker.shape)\n",
    "\n",
    "# Kernel k-means with EM approach\n",
    "n_trials = 10\n",
    "C_kmeans, En_kmeans = compute_kernel_kmeans_EM(nc, Ker, Theta, n_trials)\n",
    "\n",
    "# Plot\n",
    "plt.figure(3)\n",
    "size_vertex_plot = 10\n",
    "plt.scatter(X[:,0], X[:,1], s=size_vertex_plot*np.ones(n), c=C_kmeans, cmap='jet')\n",
    "plt.title('Kernel k-means solution with EM approach. Accuracy= ' + str(compute_purity(C_kmeans,Cgt,nc))[:5] +\n",
    "         ', Energy= ' + str(En_kmeans)[:5])\n",
    "plt.show()\n"
   ]
  },
  {
   "cell_type": "markdown",
   "metadata": {},
   "source": [
    "### Question 3: Evaluate the performance of *Non-Linear* k-Means using the Spectral technique\n",
    "\n",
    "Use the function `compute_kernel_kmeans_spectral(nc, Ker, Theta)` with the following input arguments:\n",
    "* nc : Number of clusters.\n",
    "* Ker : Kernel matrix of size n x n, where n is the number of data points.\n",
    "* Theta : Weight matrix of size n x n, a diagonal matrix containing the weights of each data point.\n",
    "\n",
    "Note that this function does not have an `n_trials` input argument. Why do you think that is?\n"
   ]
  },
  {
   "cell_type": "code",
   "execution_count": null,
   "metadata": {
    "collapsed": false,
    "jupyter": {
     "outputs_hidden": false
    }
   },
   "outputs": [],
   "source": [
    "# Run kernel/non-linear k-means with spectral approach\n",
    " \n",
    "# Compute linear kernel for standard k-means\n",
    "Ker = construct_kernel(X, 'kNN_gaussian', 100)\n",
    "print(Ker.shape)\n",
    "\n",
    "# Kernel k-means with spectral approach\n",
    "C_kmeans, En_kmeans = compute_kernel_kmeans_spectral(# YOUR CODE HERE )\n",
    "\n",
    "# Plot\n",
    "plt.figure(4)\n",
    "size_vertex_plot = 10\n",
    "plt.scatter(X[:,0], X[:,1], s=size_vertex_plot*np.ones(n), c=C_kmeans, cmap='jet')\n",
    "plt.title('Kernel k-means solution with spectral approach. Accuracy= ' + \n",
    "          str(compute_purity(C_kmeans,Cgt,nc))[:5] + ' Energy= ' + str(En_kmeans)[:5])\n",
    "plt.show()\n"
   ]
  },
  {
   "cell_type": "code",
   "execution_count": null,
   "metadata": {},
   "outputs": [],
   "source": []
  },
  {
   "cell_type": "code",
   "execution_count": null,
   "metadata": {},
   "outputs": [],
   "source": []
  }
 ],
 "metadata": {
  "kernelspec": {
   "display_name": "Python 3 (ipykernel)",
   "language": "python",
   "name": "python3"
  },
  "language_info": {
   "codemirror_mode": {
    "name": "ipython",
    "version": 3
   },
   "file_extension": ".py",
   "mimetype": "text/x-python",
   "name": "python",
   "nbconvert_exporter": "python",
   "pygments_lexer": "ipython3",
   "version": "3.8.19"
  }
 },
 "nbformat": 4,
 "nbformat_minor": 4
}
