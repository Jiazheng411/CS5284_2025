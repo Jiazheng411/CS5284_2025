{
 "cells": [
  {
   "cell_type": "markdown",
   "metadata": {},
   "source": [
    "# Lecture : Graph Clustering\n",
    "\n",
    "## Lab 05 : PCut -- Solution\n",
    "\n",
    "### Xavier Bresson, Jiaming Wang\n"
   ]
  },
  {
   "cell_type": "code",
   "execution_count": null,
   "metadata": {},
   "outputs": [],
   "source": [
    "# For Google Colaboratory\n",
    "import sys, os\n",
    "if 'google.colab' in sys.modules:\n",
    "    # mount google drive\n",
    "    from google.colab import drive\n",
    "    drive.mount('/content/gdrive')\n",
    "    path_to_file = '/content/gdrive/My Drive/CS5284_2024_codes/codes/03_Graph_Clustering'\n",
    "    print(path_to_file)\n",
    "    # change current path to the folder containing \"path_to_file\"\n",
    "    os.chdir(path_to_file)\n",
    "    !pwd\n",
    "    "
   ]
  },
  {
   "cell_type": "code",
   "execution_count": null,
   "metadata": {
    "collapsed": false,
    "jupyter": {
     "outputs_hidden": false
    }
   },
   "outputs": [],
   "source": [
    "# Load libraries\n",
    "import numpy as np\n",
    "import scipy.io\n",
    "%matplotlib inline\n",
    "#%matplotlib notebook\n",
    "import matplotlib.pyplot as plt\n",
    "import time\n",
    "import sys; sys.path.insert(0, 'lib/')\n",
    "%load_ext autoreload\n",
    "%autoreload 2\n",
    "from lib.utils import construct_kernel\n",
    "from lib.utils import compute_kernel_kmeans_EM\n",
    "from lib.utils import compute_kernel_kmeans_spectral\n",
    "from lib.utils import compute_purity\n",
    "from lib.utils import construct_knn_graph\n",
    "from lib.utils import compute_ncut\n",
    "from lib.utils import compute_pcut\n",
    "from lib.utils import graph_laplacian\n",
    "import warnings; warnings.filterwarnings(\"ignore\")\n"
   ]
  },
  {
   "cell_type": "markdown",
   "metadata": {},
   "source": [
    "### Two-moon dataset"
   ]
  },
  {
   "cell_type": "code",
   "execution_count": null,
   "metadata": {
    "collapsed": false,
    "jupyter": {
     "outputs_hidden": false
    }
   },
   "outputs": [],
   "source": [
    "# Load raw data images\n",
    "mat = scipy.io.loadmat('datasets/two_moons.mat')\n",
    "X = mat['X']\n",
    "n = X.shape[0]\n",
    "d = X.shape[1]\n",
    "Cgt = mat['Cgt']-1; Cgt=Cgt.squeeze()\n",
    "nc = len(np.unique(Cgt))\n",
    "print(n,d,nc)\n",
    "\n",
    "# Plot\n",
    "plt.figure(1)\n",
    "size_vertex_plot = 10\n",
    "plt.scatter(X[:,0], X[:,1], s=size_vertex_plot*np.ones(n), c=Cgt, cmap='jet')\n",
    "plt.title('Visualization of the two-moon datase with 2 classes, Data Dimentionality is 100')\n",
    "plt.show()\n"
   ]
  },
  {
   "cell_type": "markdown",
   "metadata": {},
   "source": [
    "### Question 1: Determine the optimal value of k for the k-NN graph in the spectral NCut technique\n",
    "\n",
    "What value of k gives the best clustering results?\n"
   ]
  },
  {
   "cell_type": "code",
   "execution_count": null,
   "metadata": {
    "collapsed": false,
    "jupyter": {
     "outputs_hidden": false
    }
   },
   "outputs": [],
   "source": [
    "# Run NCut \n",
    "k = # YOUR CODE HERE \n",
    "W = construct_knn_graph(X, k, 'euclidean')\n",
    "C_ncut, _ = compute_ncut(W, Cgt, nc)\n",
    "\n",
    "# Plot\n",
    "plt.figure(2)\n",
    "size_vertex_plot = 10\n",
    "plt.scatter(X[:,0], X[:,1], s=size_vertex_plot*np.ones(n), c=C_ncut, cmap='jet')\n",
    "plt.title('NCut solution. Accuracy= ' + \n",
    "          str(compute_purity(C_ncut, Cgt, nc))[:6] )\n",
    "plt.show()\n"
   ]
  },
  {
   "cell_type": "markdown",
   "metadata": {},
   "source": [
    "### Question 2: Evaluate the PCut technique with different values of k for the k-NN graph\n",
    "\n",
    "What value ofk produces the most effective clustering result?\n",
    "\n",
    "Additionally, what is the range of k that provides optimal clustering performance?\n"
   ]
  },
  {
   "cell_type": "code",
   "execution_count": null,
   "metadata": {},
   "outputs": [],
   "source": [
    "# Run PCut\n",
    "k = # YOUR CODE HERE \n",
    "W = construct_knn_graph(X, k, 'euclidean')\n",
    "C_pcut, _ = compute_pcut(W, Cgt, nc, 2, 200)\n",
    "\n",
    "# Plot\n",
    "plt.figure(3)\n",
    "size_vertex_plot = 10\n",
    "plt.scatter(X[:,0], X[:,1], s=size_vertex_plot*np.ones(n), c=C_pcut, cmap='jet')\n",
    "plt.title('PCut solution. Accuracy= ' + \n",
    "          str(compute_purity(C_pcut, Cgt, nc))[:6] )\n",
    "plt.show()\n"
   ]
  },
  {
   "cell_type": "markdown",
   "metadata": {},
   "source": [
    "### Comment: Compare the spectral NCut and PCut techniques on two real-world graphs\n",
    "\n",
    "Run both the Spectral NCut and PCut techniques on two real-world graphs and compare their performance.\n"
   ]
  },
  {
   "cell_type": "markdown",
   "metadata": {},
   "source": [
    "### USPS image graph"
   ]
  },
  {
   "cell_type": "code",
   "execution_count": null,
   "metadata": {},
   "outputs": [],
   "source": [
    "# Load USPS dataset\n",
    "mat = scipy.io.loadmat('datasets/USPS.mat')\n",
    "W = mat['W'] # 'scipy.sparse._csc.csc_matrix'\n",
    "n = W.shape[0]\n",
    "Cgt = mat['Cgt']-1; Cgt=Cgt.squeeze()\n",
    "nc = len(np.unique(Cgt))\n",
    "print(n,nc)\n"
   ]
  },
  {
   "cell_type": "code",
   "execution_count": null,
   "metadata": {},
   "outputs": [],
   "source": [
    "Cncut, acc = compute_ncut(W,Cgt,nc)\n",
    "print('Ncut accuracy =',acc)\n"
   ]
  },
  {
   "cell_type": "code",
   "execution_count": null,
   "metadata": {},
   "outputs": [],
   "source": [
    "Cpcut, acc = compute_pcut(W,Cgt,nc,5,10)\n",
    "print('Pcut accuracy =',acc)\n"
   ]
  },
  {
   "cell_type": "markdown",
   "metadata": {},
   "source": [
    "### MIREX music graph"
   ]
  },
  {
   "cell_type": "code",
   "execution_count": null,
   "metadata": {},
   "outputs": [],
   "source": [
    "# Load USPS dataset\n",
    "mat = scipy.io.loadmat('datasets/MIREX.mat')\n",
    "W = mat['W'] # 'scipy.sparse._csc.csc_matrix'\n",
    "n = W.shape[0]\n",
    "Cgt = mat['Cgt']-1; Cgt=Cgt.squeeze()\n",
    "nc = len(np.unique(Cgt))\n",
    "print(n,nc)\n"
   ]
  },
  {
   "cell_type": "code",
   "execution_count": null,
   "metadata": {},
   "outputs": [],
   "source": [
    "Cncut, acc = compute_ncut(W,Cgt,nc)\n",
    "print('Ncut accuracy =',acc)\n"
   ]
  },
  {
   "cell_type": "code",
   "execution_count": null,
   "metadata": {},
   "outputs": [],
   "source": [
    "Cpcut, acc = compute_pcut(W,Cgt,nc,0.5,400)\n",
    "print('Pcut accuracy =',acc)\n"
   ]
  },
  {
   "cell_type": "code",
   "execution_count": null,
   "metadata": {},
   "outputs": [],
   "source": []
  },
  {
   "cell_type": "code",
   "execution_count": null,
   "metadata": {},
   "outputs": [],
   "source": []
  }
 ],
 "metadata": {
  "kernelspec": {
   "display_name": "Python 3 (ipykernel)",
   "language": "python",
   "name": "python3"
  },
  "language_info": {
   "codemirror_mode": {
    "name": "ipython",
    "version": 3
   },
   "file_extension": ".py",
   "mimetype": "text/x-python",
   "name": "python",
   "nbconvert_exporter": "python",
   "pygments_lexer": "ipython3",
   "version": "3.8.19"
  }
 },
 "nbformat": 4,
 "nbformat_minor": 4
}
