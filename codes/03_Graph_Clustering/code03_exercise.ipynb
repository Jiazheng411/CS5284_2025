{
 "cells": [
  {
   "cell_type": "markdown",
   "metadata": {},
   "source": [
    "# Lecture : Graph Clustering\n",
    "\n",
    "## Lab 03 : Metis -- Exercise\n",
    "\n",
    "### Xavier Bresson, Jiaming Wang\n"
   ]
  },
  {
   "cell_type": "code",
   "execution_count": null,
   "metadata": {},
   "outputs": [],
   "source": [
    "# For Google Colaboratory\n",
    "import sys, os\n",
    "if 'google.colab' in sys.modules:\n",
    "    # mount google drive\n",
    "    from google.colab import drive\n",
    "    drive.mount('/content/gdrive')\n",
    "    path_to_file = '/content/gdrive/My Drive/CS5284_2024_codes/codes/03_Graph_Clustering'\n",
    "    print(path_to_file)\n",
    "    # change current path to the folder containing \"path_to_file\"\n",
    "    os.chdir(path_to_file)\n",
    "    !pip install pymetis==2023.1 # install metis \n",
    "    !pip install dgl==2.0.0 -f https://data.dgl.ai/wheels/repo.html # install dgl\n",
    "    !pwd\n",
    "    "
   ]
  },
  {
   "cell_type": "code",
   "execution_count": null,
   "metadata": {},
   "outputs": [],
   "source": [
    "# Data conversion used in this notebook\n",
    "#  from DGL to networkx :                          G_nx = dgl.to_networkx(G_dgl)\n",
    "#  from scipy.sparse._csc.csc_matrix to DGL :      G_dgl = dgl.from_scipy(G_sp)\n",
    "#  from scipy.sparse._csc.csc_matrix to networkx : G_nx = nx.from_scipy_sparse_array(G_sp)\n",
    "#  from networkx to numpy :                        G_np = nx.to_numpy_array(G_nx)\n"
   ]
  },
  {
   "cell_type": "code",
   "execution_count": null,
   "metadata": {},
   "outputs": [],
   "source": [
    "# Load libraries\n",
    "import numpy as np\n",
    "import scipy.io\n",
    "%matplotlib inline\n",
    "#%matplotlib notebook \n",
    "from matplotlib import pyplot\n",
    "import matplotlib.pyplot as plt\n",
    "import time\n",
    "import sys; sys.path.insert(0, 'lib/')\n",
    "%load_ext autoreload\n",
    "%autoreload 2\n",
    "from lib.utils import compute_purity\n",
    "import warnings; warnings.filterwarnings(\"ignore\")\n",
    "from lib.utils import nldr_visualization\n",
    "import os\n",
    "import torch\n",
    "import networkx as nx\n",
    "import time\n",
    "import dgl # DGL\n",
    "import pymetis # PyG Metis\n",
    "import platform\n"
   ]
  },
  {
   "cell_type": "markdown",
   "metadata": {},
   "source": [
    "# Artifical balanced graph"
   ]
  },
  {
   "cell_type": "markdown",
   "metadata": {},
   "source": [
    "### Question 1: Construct a simple graph using the DGL library\n",
    "Reference: https://www.dgl.ai\n",
    "\n",
    "Create a graph with 9 nodes indexed from 0 to 8.\n",
    "\n",
    "The set of edges is defined as E = \\{ (0,2), (0,1), (1,2), (3,4), (4,5), (6,7), (6,8), (7,8), (1,7), (2,3) \\}.\n",
    "\n",
    "To construct this graph in DGL, you can use the `dgl.graph()` function:\n",
    "https://docs.dgl.ai/generated/dgl.graph.html#dgl-graph\n",
    "\n",
    "For a simple example, see also: https://docs.dgl.ai/en/0.2.x/tutorials/basics/1_first.html#step-1-creating-a-graph-in-dgl\n",
    "\n",
    "Since the graph is undirected, DGL requires that you add both directions for each edge, e.g. (0,2) and (2,0).\n",
    "\n",
    "To automatically create an undirected graph from a directed one, you may use the `dgl.add_reverse_edges()` function.\n"
   ]
  },
  {
   "cell_type": "code",
   "execution_count": null,
   "metadata": {},
   "outputs": [],
   "source": [
    "# Build a simple artificail graph of 3 balanced communities with DGL\n",
    "r = # YOUR CODE HERE \n",
    "c = # YOUR CODE HERE \n",
    "n = 9\n",
    "G_dgl = dgl.graph(# YOUR CODE HERE )\n",
    "G_dgl = dgl.add_reverse_edges(G_dgl) # undirected graph\n",
    "print(G_dgl)\n",
    "print(G_dgl.nodes())\n",
    "print(G_dgl.edges())\n",
    "\n",
    "# Plot graph\n",
    "G_nx = dgl.to_networkx(G_dgl)\n",
    "plt.figure(figsize=[7,7])\n",
    "nx.draw_networkx(G_nx, with_labels=True)\n"
   ]
  },
  {
   "cell_type": "markdown",
   "metadata": {},
   "source": [
    "### Question 2: Partition the artificial graph using Metis\n",
    "\n",
    "Metis is accessible through the PyMetis package:  \n",
    "https://pypi.org/project/PyMetis\n",
    "\n",
    "Experiment with different numbers of partitions to see how the graph is divided.\n"
   ]
  },
  {
   "cell_type": "code",
   "execution_count": null,
   "metadata": {},
   "outputs": [],
   "source": [
    "# Run Metis with PyMetis\n",
    "num_parts = 3\n",
    "G_nx = dgl.to_networkx(G_dgl)\n",
    "_, part_vert = pymetis # YOUR CODE HERE \n",
    "C_metis_pyg = torch.tensor(part_vert).long()\n",
    "print('C_metis_pyg',C_metis_pyg)\n",
    "plt.figure(figsize=[7,7])\n",
    "nx.draw_networkx(G_nx, with_labels=True, node_color=C_metis_pyg, cmap='jet')\n"
   ]
  },
  {
   "cell_type": "code",
   "execution_count": null,
   "metadata": {},
   "outputs": [],
   "source": [
    "# Run Metis with DGL\n",
    "#  https://docs.dgl.ai/en/0.8.x/generated/dgl.dataloading.ClusterGCNSampler.html\n",
    "\n",
    "if platform.system()!='Windows': # os is not Windows\n",
    "    try: os.remove(\"cluster_gcn.pkl\") # remove any existing partition\n",
    "    except: pass \n",
    "    num_parts = 3\n",
    "    sampler = dgl.dataloading.ClusterGCNSampler(G_dgl, num_parts) \n",
    "    C_metis_dgl = torch.zeros(G_dgl.num_nodes()).long()\n",
    "    for idx, (idx_start, idx_end) in enumerate(zip(sampler.partition_offset[:num_parts], sampler.partition_offset[1:num_parts+1])):\n",
    "        C_metis_dgl[sampler.partition_node_ids[idx_start: idx_end]] = idx\n",
    "    print('C_metis_dgl',C_metis_dgl)\n",
    "    G_nx = dgl.to_networkx(G_dgl)\n",
    "    plt.figure(figsize=[7,7])\n",
    "    nx.draw_networkx(G_nx, with_labels=True, node_color=C_metis_dgl, cmap='jet')\n",
    "else:\n",
    "    print('DGL has not yet implemented Metis under Windows.')\n",
    "    "
   ]
  },
  {
   "cell_type": "markdown",
   "metadata": {},
   "source": [
    "# Real-world USPS image graph"
   ]
  },
  {
   "cell_type": "code",
   "execution_count": null,
   "metadata": {},
   "outputs": [],
   "source": [
    "# Load USPS Music dataset\n",
    "mat = scipy.io.loadmat('datasets/USPS.mat')\n",
    "W = mat['W'] # scipy.sparse._csc.csc_matrix\n",
    "n = W.shape[0]\n",
    "Cgt = mat['Cgt']-1; Cgt = Cgt.squeeze()\n",
    "nc = len(np.unique(Cgt))\n",
    "print('n,nc:',n,nc)\n"
   ]
  },
  {
   "cell_type": "markdown",
   "metadata": {},
   "source": [
    "### Question 3: Partition the real-world USPS image graph using Metis\n",
    "https://datasets.activeloop.ai/docs/ml/datasets/usps-dataset\n",
    "\n",
    "After partitioning the graph using Metis, visualize it with clusters represented by different colors.\n",
    "\n",
    "Do the resulting clusters reveal any meaningful patterns?\n"
   ]
  },
  {
   "cell_type": "code",
   "execution_count": null,
   "metadata": {},
   "outputs": [],
   "source": [
    "# Run Metis with PyMetis\n",
    "num_parts = nc\n",
    "G_nx = nx.from_scipy_sparse_array(W)\n",
    "start = time.time()\n",
    "_, part_vert = pymetis # YOUR CODE HERE \n",
    "print('Time(sec) : %.3f' % (time.time()-start) )\n",
    "C_metis_pyg = np.array(part_vert,dtype='int32')\n",
    "acc = compute_purity(C_metis_pyg, Cgt, nc)\n",
    "print('\\nAccuracy Metis PyG :',acc)\n"
   ]
  },
  {
   "cell_type": "code",
   "execution_count": null,
   "metadata": {},
   "outputs": [],
   "source": [
    "# Run Metis with DGL\n",
    "#  https://docs.dgl.ai/en/0.8.x/generated/dgl.dataloading.ClusterGCNSampler.html\n",
    "\n",
    "try: os.remove(\"cluster_gcn.pkl\") # remove any existing partition\n",
    "except: pass \n",
    "num_parts = nc\n",
    "G_dgl = dgl.from_scipy(W)\n",
    "start = time.time()\n",
    "sampler = dgl.dataloading.ClusterGCNSampler(G_dgl, num_parts) \n",
    "print('Time(sec) : %.3f' % (time.time()-start) )\n",
    "C_metis_dgl = torch.zeros(G_dgl.num_nodes()).long()\n",
    "for idx, (idx_start, idx_end) in enumerate(zip(sampler.partition_offset[:num_parts], sampler.partition_offset[1:num_parts+1])):\n",
    "    C_metis_dgl[sampler.partition_node_ids[idx_start: idx_end]] = idx\n",
    "print('C_metis_dgl',C_metis_dgl)\n",
    "C_metis_dgl = np.array(C_metis_dgl, dtype='int32')\n",
    "acc = compute_purity(C_metis_dgl, Cgt, nc)\n",
    "print('\\nAccuracy Metis DGL :',acc)\n"
   ]
  },
  {
   "cell_type": "code",
   "execution_count": null,
   "metadata": {},
   "outputs": [],
   "source": [
    "# Compute non-linear dim reduction\n",
    "start = time.time()\n",
    "[X,Y,Z] = nldr_visualization(nx.to_numpy_array(G_nx))\n",
    "print('Time(sec): %.3f' % (time.time()-start) )\n",
    "print(X.shape)\n",
    "\n",
    "# 2D Visualization\n",
    "plt.figure(3)\n",
    "plt.scatter(X, Y, c=C_metis_pyg, s=3, color=pyplot.jet())\n",
    "plt.show()\n"
   ]
  },
  {
   "cell_type": "code",
   "execution_count": null,
   "metadata": {},
   "outputs": [],
   "source": [
    "# 3D Visualization\n",
    "import plotly.graph_objects as go\n",
    "data = go.Scatter3d(x=X, y=Y, z=Z, mode='markers', marker=dict(size=1, color=C_metis_pyg, colorscale='jet', opacity=1)) # data as points\n",
    "# data = go.Scatter3d(x=Xvis, y=Yvis, z=Zvis, mode='markers', marker=dict(size=1, color=C, colorscale='jet', opacity=1, showscale=True)) # w/ colobar \n",
    "fig = go.Figure(data=[data]) \n",
    "fig.update_layout(margin=dict(l=0, r=0, b=0, t=30, pad=0)) # tight layout but t=25 required for showing title \n",
    "fig.update_layout(autosize=False, width=600, height=600, title_text=\"3D visualization of USPS image graph\") # figure size and title\n",
    "# fig.update_layout(scene = dict(xaxis = dict(visible=False), yaxis = dict(visible=False), zaxis = dict(visible=False))) # no grid, no axis \n",
    "# fig.update_layout(scene = dict(xaxis_title = ' ', yaxis_title = ' ', zaxis_title = ' ')) # no axis name \n",
    "fig.update_layout(scene = dict(zaxis = dict(showgrid = True, showticklabels = False), zaxis_title = ' ') ) # no range values, no axis name, grid on\n",
    "fig.update_layout(scene = dict(yaxis = dict(showgrid = True, showticklabels = False), yaxis_title = ' ') ) # no range values, no axis name, grid on\n",
    "fig.update_layout(scene = dict(xaxis = dict(showgrid = True, showticklabels = False), xaxis_title = ' ') ) # no range values, no axis name, grid on\n",
    "fig.layout.scene.aspectratio = {'x':1, 'y':1, 'z':1}\n",
    "fig.show()\n"
   ]
  },
  {
   "cell_type": "code",
   "execution_count": null,
   "metadata": {},
   "outputs": [],
   "source": []
  },
  {
   "cell_type": "code",
   "execution_count": null,
   "metadata": {},
   "outputs": [],
   "source": []
  }
 ],
 "metadata": {
  "kernelspec": {
   "display_name": "Python 3 (ipykernel)",
   "language": "python",
   "name": "python3"
  },
  "language_info": {
   "codemirror_mode": {
    "name": "ipython",
    "version": 3
   },
   "file_extension": ".py",
   "mimetype": "text/x-python",
   "name": "python",
   "nbconvert_exporter": "python",
   "pygments_lexer": "ipython3",
   "version": "3.8.19"
  }
 },
 "nbformat": 4,
 "nbformat_minor": 4
}
