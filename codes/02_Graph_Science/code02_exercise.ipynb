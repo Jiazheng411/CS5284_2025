{
 "cells": [
  {
   "cell_type": "markdown",
   "metadata": {},
   "source": [
    "# Lecture : Introduction to Graph Science\n",
    "\n",
    "## Lab 02 : Modes of variations of a graph system -- Exercise\n",
    "\n",
    "### Xavier Bresson, Nian Liu \n"
   ]
  },
  {
   "cell_type": "code",
   "execution_count": null,
   "metadata": {},
   "outputs": [],
   "source": [
    "# For Google Colaboratory\n",
    "import sys, os\n",
    "if 'google.colab' in sys.modules:\n",
    "    # mount google drive\n",
    "    from google.colab import drive\n",
    "    drive.mount('/content/gdrive')\n",
    "    path_to_file = '/content/gdrive/My Drive/CS5284_2024_codes/codes/02_Graph_Science'\n",
    "    print(path_to_file)\n",
    "    # change current path to the folder containing \"path_to_file\"\n",
    "    os.chdir(path_to_file)\n",
    "    !pwd\n",
    "    "
   ]
  },
  {
   "cell_type": "code",
   "execution_count": null,
   "metadata": {},
   "outputs": [],
   "source": [
    "# Load libraries\n",
    "import numpy as np\n",
    "%matplotlib inline\n",
    "#%matplotlib notebook \n",
    "import matplotlib.pyplot as plt\n",
    "from matplotlib import pyplot\n",
    "import scipy.io # Import data\n",
    "import sys; sys.path.insert(0, 'lib/')\n",
    "%load_ext autoreload\n",
    "%autoreload 2\n",
    "from lib.utils import graph_laplacian\n",
    "import warnings; warnings.filterwarnings(\"ignore\")\n"
   ]
  },
  {
   "cell_type": "code",
   "execution_count": null,
   "metadata": {},
   "outputs": [],
   "source": [
    "# Load disco-boy network\n",
    "mat = scipy.io.loadmat('datasets/discoboy_network.mat')\n",
    "X = mat['X']\n",
    "W = mat['W']\n",
    "print(X.shape,W.shape)\n"
   ]
  },
  {
   "cell_type": "code",
   "execution_count": null,
   "metadata": {},
   "outputs": [],
   "source": [
    "# Visualize the dataset in 2D\n",
    "plt.figure(1)\n",
    "size_vertex_plot = 20.\n",
    "plt.scatter(X[:,0], X[:,1], s=size_vertex_plot*np.ones(X.shape[0]), color=pyplot.jet())\n",
    "plt.show()\n"
   ]
  },
  {
   "cell_type": "code",
   "execution_count": null,
   "metadata": {},
   "outputs": [],
   "source": [
    "# Compute graph Laplacian\n",
    "L = graph_laplacian(W)\n",
    "\n",
    "# Compute modes of variations of graph system = Fourier functions\n",
    "lamb, U = scipy.sparse.linalg.eigsh(L, k=9, which='SM')\n"
   ]
  },
  {
   "cell_type": "markdown",
   "metadata": {},
   "source": [
    "### Question 1 : Plot the Fourier functions of the human silhouette, encoded by a k-NN graph\n",
    "\n",
    "The Fourier functions are given by the columns of the eigenvector matrix U, which can be computed using the `scipy` library:\n",
    "https://docs.scipy.org/doc/scipy/reference/generated/scipy.sparse.linalg.eigsh.html\n",
    "\n",
    "Hint: You can use the `scatter()` function to plot the data:  \n",
    "https://matplotlib.org/stable/api/_as_gen/matplotlib.pyplot.scatter.html\n",
    "\n",
    "Examine the Fourier functions, particularly focusing on their oscillatory characteristics.\n",
    "\n",
    "Can you identify any trends or properties in the oscillations?\n"
   ]
  },
  {
   "cell_type": "code",
   "execution_count": null,
   "metadata": {},
   "outputs": [],
   "source": [
    "# Plot mode of variations\n",
    "for i in range(1,10):\n",
    "    plt.figure(str(10+i))\n",
    "    # YOUR CODE HERE \n",
    "    plt.colorbar()\n",
    "    plt.show()\n",
    "    "
   ]
  },
  {
   "cell_type": "markdown",
   "metadata": {},
   "source": [
    "### Question 2 : Plot the Fourier functions of a standard grid, represented by a k-NN graph\n",
    "\n",
    "As you plot the Fourier functions for a standard grid, consider if they look familiar.\n",
    "\n",
    "What are these functions commonly called?\n"
   ]
  },
  {
   "cell_type": "code",
   "execution_count": null,
   "metadata": {},
   "outputs": [],
   "source": [
    "# Load grid network (for images)\n",
    "mat = scipy.io.loadmat('datasets/grid_network.mat')\n",
    "X = mat['X']\n",
    "W = mat['W']\n",
    "print(X.shape,W.shape)\n",
    "\n",
    "# Visualize the network in 2D\n",
    "plt.figure(20)\n",
    "size_vertex_plot = 20.\n",
    "plt.scatter(X[:,0], X[:,1], s=size_vertex_plot*np.ones(X.shape[0]), color=pyplot.jet())\n",
    "plt.show()\n"
   ]
  },
  {
   "cell_type": "code",
   "execution_count": null,
   "metadata": {},
   "outputs": [],
   "source": [
    "# Compute graph Laplacian\n",
    "L = graph_laplacian(W)\n",
    "\n",
    "# Compute modes of variations of graph system = Fourier functions\n",
    "lamb, U = scipy.sparse.linalg.eigsh(L, k=9, which='SM')\n",
    "\n",
    "# Plot mode of variations\n",
    "for i in range(1,10):\n",
    "    plt.figure(str(20+i))\n",
    "    # YOUR CODE HERE \n",
    "    plt.show()\n",
    "    "
   ]
  },
  {
   "cell_type": "code",
   "execution_count": null,
   "metadata": {},
   "outputs": [],
   "source": []
  },
  {
   "cell_type": "code",
   "execution_count": null,
   "metadata": {},
   "outputs": [],
   "source": []
  }
 ],
 "metadata": {
  "kernelspec": {
   "display_name": "Python 3 (ipykernel)",
   "language": "python",
   "name": "python3"
  },
  "language_info": {
   "codemirror_mode": {
    "name": "ipython",
    "version": 3
   },
   "file_extension": ".py",
   "mimetype": "text/x-python",
   "name": "python",
   "nbconvert_exporter": "python",
   "pygments_lexer": "ipython3",
   "version": "3.8.19"
  }
 },
 "nbformat": 4,
 "nbformat_minor": 4
}
