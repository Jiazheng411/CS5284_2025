{
 "cells": [
  {
   "cell_type": "markdown",
   "metadata": {},
   "source": [
    "# Lecture : Introduction to Graph Science\n",
    "\n",
    "## Lab 04 : Construct a network of text documents -- Exercise\n",
    "\n",
    "### Xavier Bresson, Nian Liu  \n"
   ]
  },
  {
   "cell_type": "code",
   "execution_count": null,
   "metadata": {},
   "outputs": [],
   "source": [
    "# For Google Colaboratory\n",
    "import sys, os\n",
    "if 'google.colab' in sys.modules:\n",
    "    # mount google drive\n",
    "    from google.colab import drive\n",
    "    drive.mount('/content/gdrive')\n",
    "    path_to_file = '/content/gdrive/My Drive/CS5284_2024_codes/codes/02_Graph_Science'\n",
    "    print(path_to_file)\n",
    "    # change current path to the folder containing \"path_to_file\"\n",
    "    os.chdir(path_to_file)\n",
    "    !pwd\n",
    "    "
   ]
  },
  {
   "cell_type": "code",
   "execution_count": null,
   "metadata": {},
   "outputs": [],
   "source": [
    "# Load libraries\n",
    "import numpy as np\n",
    "%matplotlib inline\n",
    "#%matplotlib notebook \n",
    "import matplotlib.pyplot as plt\n",
    "import pylab # 3D visualization\n",
    "from mpl_toolkits.mplot3d import Axes3D\n",
    "from matplotlib import pyplot\n",
    "import scipy.io # import data\n",
    "import sys; sys.path.insert(0, 'lib/')\n",
    "%load_ext autoreload\n",
    "%autoreload 2\n",
    "from lib.utils import compute_ncut\n",
    "from lib.utils import reindex_W_with_classes\n",
    "from lib.utils import nldr_visualization\n",
    "from lib.utils import construct_knn_graph\n",
    "import warnings; warnings.filterwarnings(\"ignore\")\n"
   ]
  },
  {
   "cell_type": "markdown",
   "metadata": {},
   "source": [
    "### Question\n",
    "\n",
    "In the previous notebook, we examined a graph of images and noted that the quality of the adjacency matrix construction remained relatively fine whether using Euclidean distance or cosine distance.\n",
    "\n",
    "In this notebook, we will analyze a graph of text documents, where each document is represented by a histogram of words.\n",
    "\n",
    "1. **Characteristics of Text Document Histograms:** What is the key feature of text documents represented by histograms of words?\n",
    "\n",
    "2. **Compare Graph Construction Quality:** Run and compare the quality of graph construction both visually and quantitatively using the NCut graph partitioning algorithm, given the ground truth communities.\n",
    "\n",
    "3. **Best Graph Construction Approach:** Determine which graph construction method — Euclidean distance or cosine distance — is more effective for this type of graph.\n"
   ]
  },
  {
   "cell_type": "code",
   "execution_count": null,
   "metadata": {},
   "outputs": [],
   "source": [
    "# Load 10 classes of 4,000 text documents\n",
    "mat = scipy.io.loadmat('datasets/20news_5classes_raw_data.mat')\n",
    "X = mat['X']\n",
    "n = X.shape[0]\n",
    "d = X.shape[1]\n",
    "Cgt = mat['Cgt']-1; Cgt=Cgt.squeeze()\n",
    "nc = len(np.unique(Cgt))\n",
    "print(n,d,nc)\n"
   ]
  },
  {
   "cell_type": "code",
   "execution_count": null,
   "metadata": {},
   "outputs": [],
   "source": [
    "# Compute the k-NN graph with L2/Euclidean distance\n",
    "W_euclidean = construct_knn_graph(X, 10, 'euclidean')\n",
    "#print(W_euclidean)\n"
   ]
  },
  {
   "cell_type": "code",
   "execution_count": null,
   "metadata": {},
   "outputs": [],
   "source": [
    "Cncut,acc = compute_ncut(W_euclidean, Cgt, nc)\n",
    "print(acc)\n"
   ]
  },
  {
   "cell_type": "code",
   "execution_count": null,
   "metadata": {},
   "outputs": [],
   "source": [
    "[reindexed_W_gt,reindexed_C_gt] = reindex_W_with_classes(W_euclidean,Cgt)\n",
    "[reindexed_W_ncut,reindexed_C_ncut] = reindex_W_with_classes(W_euclidean,Cncut)\n"
   ]
  },
  {
   "cell_type": "code",
   "execution_count": null,
   "metadata": {},
   "outputs": [],
   "source": [
    "plt.figure(1)\n",
    "plt.spy(W_euclidean,precision=0.01, markersize=1)\n",
    "plt.title('Adjacency Matrix A')\n",
    "plt.show()\n",
    "\n",
    "plt.figure(2)\n",
    "plt.spy(reindexed_W_gt,precision=0.01, markersize=1)\n",
    "plt.title('Adjacency Matrix A indexed according to GROUND TRUTH communities')\n",
    "plt.show()\n",
    "\n",
    "plt.figure(3)\n",
    "plt.spy(reindexed_W_ncut,precision=0.01, markersize=1)\n",
    "plt.title('Adjacency Matrix A indexed according to GROUND TRUTH communities')\n",
    "plt.show()\n"
   ]
  },
  {
   "cell_type": "code",
   "execution_count": null,
   "metadata": {},
   "outputs": [],
   "source": [
    "# Visualization\n",
    "[X,Y,Z] = nldr_visualization(W_euclidean)\n",
    "\n",
    "plt.figure(4)\n",
    "size_vertex_plot = 10\n",
    "plt.scatter(X, Y, s=size_vertex_plot*np.ones(n), c=Cncut, color=pyplot.jet())\n",
    "plt.title('Clustering result with EUCLIDEAN distance, ACCURACY= '+ str(acc))\n",
    "plt.show()\n",
    "\n",
    "# 3D Visualization\n",
    "fig = pylab.figure(5)\n",
    "ax = Axes3D(fig)\n",
    "ax.scatter(X, Y, Z, c=Cncut, color=pyplot.jet())\n",
    "pyplot.show()\n"
   ]
  },
  {
   "cell_type": "code",
   "execution_count": null,
   "metadata": {},
   "outputs": [],
   "source": [
    "# Compute the k-NN graph with Cosine distance\n",
    "X = mat['X']\n",
    "W_cosine = construct_knn_graph(X,10,'cosine')\n",
    "\n",
    "Cncut, acc = compute_ncut(W_cosine, Cgt, nc)\n",
    "print(acc)\n"
   ]
  },
  {
   "cell_type": "code",
   "execution_count": null,
   "metadata": {},
   "outputs": [],
   "source": [
    "[reindexed_W_gt,reindexed_C_gt] = reindex_W_with_classes(W_cosine,Cgt)\n",
    "[reindexed_W_ncut,reindexed_C_ncut] = reindex_W_with_classes(W_cosine,Cncut)\n"
   ]
  },
  {
   "cell_type": "code",
   "execution_count": null,
   "metadata": {},
   "outputs": [],
   "source": [
    "plt.figure(6)\n",
    "plt.spy(W_cosine,precision=0.01, markersize=1)\n",
    "plt.title('Adjacency Matrix A')\n",
    "plt.show()\n",
    "\n",
    "plt.figure(7)\n",
    "plt.spy(reindexed_W_gt,precision=0.01, markersize=1)\n",
    "plt.title('Adjacency Matrix A indexed according to GROUND TRUTH communities')\n",
    "plt.show()\n",
    "\n",
    "plt.figure(8)\n",
    "plt.spy(reindexed_W_ncut,precision=0.01, markersize=1)\n",
    "plt.title('Adjacency Matrix A indexed according to NCUT communities')\n",
    "plt.show()\n"
   ]
  },
  {
   "cell_type": "code",
   "execution_count": null,
   "metadata": {},
   "outputs": [],
   "source": [
    "# Visualization\n",
    "[X,Y,Z] = nldr_visualization(W_cosine)\n",
    "\n",
    "plt.figure(9)\n",
    "size_vertex_plot = 1\n",
    "plt.scatter(X, Y, s=size_vertex_plot*np.ones(n), c=Cncut, color=pyplot.jet())\n",
    "plt.title('Clustering result with EUCLIDEAN distance, ACCURACY= '+ str(acc))\n",
    "plt.show()\n",
    "\n"
   ]
  },
  {
   "cell_type": "code",
   "execution_count": null,
   "metadata": {},
   "outputs": [],
   "source": [
    "# 3D Visualization\n",
    "import plotly.graph_objects as go\n",
    "data = go.Scatter3d(x=X, y=Y, z=Z, mode='markers', marker=dict(size=2, color=Cncut, colorscale='jet', opacity=1)) # data as points\n",
    "# data = go.Scatter3d(x=Xvis, y=Yvis, z=Zvis, mode='markers', marker=dict(size=1, color=C, colorscale='jet', opacity=1, showscale=True)) # w/ colobar \n",
    "fig = go.Figure(data=[data]) \n",
    "fig.update_layout(margin=dict(l=0, r=0, b=0, t=30, pad=0)) # tight layout but t=25 required for showing title \n",
    "fig.update_layout(autosize=False, width=600, height=600, title_text=\"3D visualization of 20newsgroups graph\") # figure size and title\n",
    "# fig.update_layout(scene = dict(xaxis = dict(visible=False), yaxis = dict(visible=False), zaxis = dict(visible=False))) # no grid, no axis \n",
    "# fig.update_layout(scene = dict(xaxis_title = ' ', yaxis_title = ' ', zaxis_title = ' ')) # no axis name \n",
    "fig.update_layout(scene = dict(zaxis = dict(showgrid = True, showticklabels = False), zaxis_title = ' ') ) # no range values, no axis name, grid on\n",
    "fig.update_layout(scene = dict(yaxis = dict(showgrid = True, showticklabels = False), yaxis_title = ' ') ) # no range values, no axis name, grid on\n",
    "fig.update_layout(scene = dict(xaxis = dict(showgrid = True, showticklabels = False), xaxis_title = ' ') ) # no range values, no axis name, grid on\n",
    "fig.layout.scene.aspectratio = {'x':1, 'y':1, 'z':1}\n",
    "fig.show()\n"
   ]
  },
  {
   "cell_type": "code",
   "execution_count": null,
   "metadata": {},
   "outputs": [],
   "source": []
  }
 ],
 "metadata": {
  "kernelspec": {
   "display_name": "Python 3 (ipykernel)",
   "language": "python",
   "name": "python3"
  },
  "language_info": {
   "codemirror_mode": {
    "name": "ipython",
    "version": 3
   },
   "file_extension": ".py",
   "mimetype": "text/x-python",
   "name": "python",
   "nbconvert_exporter": "python",
   "pygments_lexer": "ipython3",
   "version": "3.8.19"
  }
 },
 "nbformat": 4,
 "nbformat_minor": 4
}
