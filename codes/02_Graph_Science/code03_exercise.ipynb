{
 "cells": [
  {
   "cell_type": "markdown",
   "metadata": {},
   "source": [
    "# Lecture : Introduction to Graph Science\n",
    "\n",
    "## Lab 03 : Graph construction with pre-processing -- Exercise\n",
    "\n",
    "### Xavier Bresson, Nian Liu \n"
   ]
  },
  {
   "cell_type": "code",
   "execution_count": null,
   "metadata": {},
   "outputs": [],
   "source": [
    "# For Google Colaboratory\n",
    "import sys, os\n",
    "if 'google.colab' in sys.modules:\n",
    "    # mount google drive\n",
    "    from google.colab import drive\n",
    "    drive.mount('/content/gdrive')\n",
    "    path_to_file = '/content/gdrive/My Drive/CS5284_2024_codes/codes/02_Graph_Science'\n",
    "    print(path_to_file)\n",
    "    # change current path to the folder containing \"path_to_file\"\n",
    "    os.chdir(path_to_file)\n",
    "    !pwd\n",
    "    "
   ]
  },
  {
   "cell_type": "code",
   "execution_count": null,
   "metadata": {},
   "outputs": [],
   "source": [
    "# Load libraries\n",
    "import numpy as np\n",
    "%matplotlib inline\n",
    "#%matplotlib notebook \n",
    "import matplotlib.pyplot as plt\n",
    "from mpl_toolkits.axes_grid1 import make_axes_locatable\n",
    "import scipy.sparse # sparse matrix\n",
    "import scipy.sparse.linalg\n",
    "from matplotlib import pyplot\n",
    "import scipy.io # import data\n",
    "import sys; sys.path.insert(0, 'lib/')\n",
    "%load_ext autoreload\n",
    "%autoreload 2\n",
    "from lib.utils import compute_ncut\n",
    "import sklearn.metrics.pairwise # distance function\n",
    "import warnings; warnings.filterwarnings(\"ignore\")\n"
   ]
  },
  {
   "cell_type": "code",
   "execution_count": null,
   "metadata": {},
   "outputs": [],
   "source": [
    "# Load two-moon datasets\n",
    "mat = scipy.io.loadmat('datasets/two_moon_100D.mat'); dim = 100\n",
    "#mat = scipy.io.loadmat('datasets/two_moon_2D.mat'); dim = 2\n",
    "X = mat['X']\n",
    "n = X.shape[0]; C = np.zeros([n]); C[-int(n/2):] = 1\n",
    "print(X.shape,C.shape)\n",
    "\n",
    "# Visualize in 2D\n",
    "plt.figure(1)\n",
    "size_vertex_plot = 20.\n",
    "plt.scatter(X[:,0], X[:,1], s=size_vertex_plot*np.ones(n), c=C, color=pyplot.jet())\n",
    "plt.title('Visualization of two-moon datase (with ground truth), DIMENTIONALITY= ' + str(dim))\n",
    "plt.show()\n"
   ]
  },
  {
   "cell_type": "markdown",
   "metadata": {},
   "source": [
    "### Question 1 : Center the dataset X and plot the result\n",
    "\n",
    "Given a dataset $X\\in\\mathbb{R}^{n\\times d}$, centering it to have zero mean involves subtracting the mean of the dataset from each data point: \n",
    "\n",
    "$x_i \\ \\leftarrow x_i - \\textrm{mean}(\\{x_i\\}_{i=1}^n)\\in\\mathbb{R}^d$\n"
   ]
  },
  {
   "cell_type": "code",
   "execution_count": null,
   "metadata": {},
   "outputs": [],
   "source": [
    "# size(X) = nb_data x dim\n",
    "Xzc = # YOUR CODE HERE \n",
    "print(Xzc.shape)\n",
    "\n",
    "plt.figure(2)\n",
    "# YOUR CODE HERE \n",
    "plt.title('Center the data')\n",
    "plt.show()\n"
   ]
  },
  {
   "cell_type": "markdown",
   "metadata": {},
   "source": [
    "### Question 2 : Normalize the variance of the dataset X and plot the result\n",
    "\n",
    "To normalize the variance of the dataset $X\\in\\mathbb{R}^{n\\times d}$, divide each data point by the standard deviation of the dataset:\n",
    "\n",
    "$x_i \\ \\leftarrow x_i / \\textrm{std}(\\{x_i\\}_{i=1}^n)\\in\\mathbb{R}^d$\n"
   ]
  },
  {
   "cell_type": "code",
   "execution_count": null,
   "metadata": {},
   "outputs": [],
   "source": [
    "# size(X) = nb_data x dim\n",
    "# YOUR CODE HERE \n",
    "print(Xnvar.shape)\n",
    "\n",
    "plt.figure(3)\n",
    "# YOUR CODE HERE \n",
    "plt.title('Normalize the variance')\n",
    "plt.show()\n"
   ]
  },
  {
   "cell_type": "markdown",
   "metadata": {},
   "source": [
    "### Question 3 : Project the dataset X onto a unit sphere and plot the result\n",
    "\n",
    "To project a dataset $X\\in\\mathbb{R}^{n\\times d}$ onto a unit sphere, normalize each data point by its Euclidean norm:\n",
    "\n",
    "$x_i \\ \\leftarrow x_i /||x_i||_2 \\in\\mathbb{R}^d$\n"
   ]
  },
  {
   "cell_type": "code",
   "execution_count": null,
   "metadata": {},
   "outputs": [],
   "source": [
    "# size(X) = nb_data x dim\n",
    "# YOUR CODE HERE \n",
    "print(Xl2proj.shape)\n",
    "\n",
    "plt.figure(4)\n",
    "# YOUR CODE HERE \n",
    "plt.title('Projection on the L2-ball')\n",
    "plt.show()\n"
   ]
  },
  {
   "cell_type": "markdown",
   "metadata": {},
   "source": [
    "### Question 4 : Construct a k-NN graph using L2/Euclidean distance\n",
    "\n",
    "1. **Center the Dataset:** Begin by centering the dataset X to have a mean of zero.\n",
    "   \n",
    "2. **Compute Pairwise Distances:** Calculate the pairwise Euclidean distances D between all data points. You can use the `pairwise_distances()` function from the `sklearn` library: https://scikit-learn.org/stable/modules/generated/sklearn.metrics.pairwise_distances.html.\n",
    "\n",
    "3. **Sort Distance Matrix:** Organize the distance matrix D in ascending order, from the smallest to the largest distances.\n",
    "\n",
    "4. **Extract k-NN:** Identify the k-nearest neighbors for each data point based on the sorted distance matrix.\n",
    "\n",
    "5. **Compute Adjacency Matrix:** Create the adjacency matrix W using Gaussian weights. This involves applying the Gaussian function to the distances.\n",
    "\n",
    "6. **Make Adjacency Matrix Sparse:** Convert the adjacency matrix W into a sparse matrix to optimize storage and computation.\n",
    "\n",
    "7. **Symmetrize Matrix:** Ensure the adjacency matrix W is symmetric by averaging W with its transpose.\n"
   ]
  },
  {
   "cell_type": "code",
   "execution_count": null,
   "metadata": {},
   "outputs": [],
   "source": [
    "######################################\n",
    "# Construct a k-NN graph with L2/Euclidean distance\n",
    "######################################\n",
    "\n",
    "# Compute L2/Euclidean distance between all pairs of points\n",
    "Xzc = X - np.mean(X,axis=0) # zero-centered data\n",
    "D = # YOUR CODE HERE \n",
    "print(D.shape)\n",
    "\n",
    "# Sort distance matrix\n",
    "k = 10 # number of nearest neighbors\n",
    "idx = np.argsort(D)[:,:k] # indices of k nearest neighbors\n",
    "Dnot_sorted = np.copy(D)\n",
    "D.sort() # sort D from smallest to largest values\n",
    "Dsorted = np.copy(D)\n",
    "print(D.shape)\n",
    "D = D[:,:k]\n",
    "print(D.shape)\n",
    "\n",
    "# Compute weight matrix\n",
    "sigma2 = np.mean(D[:,-1])**2 # graph scale\n",
    "W = np.exp(- D**2 / sigma2)\n",
    "#print(W.shape)\n",
    "\n",
    "# Make W sparse\n",
    "n = X.shape[0]\n",
    "row = np.arange(0, n).repeat(k)\n",
    "col = idx.reshape(n*k)\n",
    "data = W.reshape(n*k)\n",
    "W = scipy.sparse.csr_matrix((data, (row, col)), shape=(n, n))\n",
    "\n",
    "# Make W is symmetric\n",
    "bigger = W.T > W\n",
    "W = W - W.multiply(bigger) + W.T.multiply(bigger)\n",
    "\n",
    "# No self-connections\n",
    "#W.setdiag(0)\n",
    "\n",
    "print(W.shape)\n",
    "print(W.nnz)\n"
   ]
  },
  {
   "cell_type": "code",
   "execution_count": null,
   "metadata": {},
   "outputs": [],
   "source": [
    "# Visualize distances\n",
    "fig, (ax1, ax2) = plt.subplots(1,2)\n",
    "#fig.suptitle('Title of figure 2', fontsize=15)\n",
    "\n",
    "ax1.set_title('Euclidean distances for all data points')\n",
    "im1 = ax1.imshow(Dnot_sorted, interpolation='nearest')\n",
    "divider1 = make_axes_locatable(ax1)\n",
    "cax1 = divider1.append_axes(\"right\", size=\"10%\", pad=0.1)\n",
    "ax1.get_figure().colorbar(im1, cax=cax1)\n",
    "\n",
    "ax2.set_title('Sorted distances')\n",
    "im2 = ax2.imshow(Dsorted, interpolation='nearest')\n",
    "divider2 = make_axes_locatable(ax2)\n",
    "cax2 = divider2.append_axes(\"right\", size=\"10%\", pad=0.1)\n",
    "ax2.get_figure().colorbar(im2, cax=cax2)\n",
    "\n",
    "fig.tight_layout()\n",
    "\n",
    "fig.show()\n"
   ]
  },
  {
   "cell_type": "code",
   "execution_count": null,
   "metadata": {
    "scrolled": true
   },
   "outputs": [],
   "source": [
    "plt.figure(5)\n",
    "plt.spy(W,precision=0.01, markersize=1, color=pyplot.jet())\n",
    "plt.show()\n"
   ]
  },
  {
   "cell_type": "markdown",
   "metadata": {},
   "source": [
    "### Comment\n",
    "\n",
    "To assess the quality of the constructed adjacency matrix, one effective approach is to compute the classification error relative to some ground truth communities.\n",
    "\n",
    "In this notebook, we evaluate the adjacency matrix by comparing the ground truth communities C with the communities estimated using the NCut graph partitioning algorithm: http://www.cis.upenn.edu/~jshi/software.\n"
   ]
  },
  {
   "cell_type": "code",
   "execution_count": null,
   "metadata": {},
   "outputs": [],
   "source": [
    "Cncut, acc = compute_ncut(W, C, 2)\n",
    "print(acc)\n"
   ]
  },
  {
   "cell_type": "code",
   "execution_count": null,
   "metadata": {},
   "outputs": [],
   "source": [
    "plt.figure(6)\n",
    "plt.scatter(X[:,0], X[:,1], s=size_vertex_plot*np.ones(n), c=Cncut, color=pyplot.jet())\n",
    "plt.title('Clustering result with EUCLIDEAN distance, ACCURACY= '+ str(acc))\n",
    "plt.show()\n"
   ]
  },
  {
   "cell_type": "markdown",
   "metadata": {},
   "source": [
    "### Question 5 : Construct a k-NN graph using cosine distance\n",
    "\n",
    "1. **Construct k-NN Graph:** Build a k-NN graph using cosine distance as the metric. The cosine distance may be computed using the `arccos()` function from NumPy: https://numpy.org/doc/stable/reference/generated/numpy.arccos.html.\n",
    "\n",
    "2. **Evaluate Quality:** Assess the quality of the adjacency matrix construction by comparing it with the ground truth communities. Use the NCut graph partitioning algorithm to estimate communities and evaluate the performance.\n",
    "\n"
   ]
  },
  {
   "cell_type": "code",
   "execution_count": null,
   "metadata": {
    "scrolled": true
   },
   "outputs": [],
   "source": [
    "######################################\n",
    "# Construct k-NN graph with Cosine distance\n",
    "######################################\n",
    "\n",
    "# Compute Cosine distance between all pairs of points\n",
    "Xzc = X - np.mean(X,axis=0) # zero-centered data\n",
    "Xl2proj = ( Xzc.T / np.sqrt(np.sum(Xzc**2,axis=1)+1e-10) ).T # Projection on the sphere, i.e. ||x_i||_2 = 1\n",
    "D = Xl2proj.dot(Xl2proj.T)\n",
    "#print(D.shape)\n",
    "\n",
    "# Sort D according in descending order\n",
    "k = 10 # number of nearest neighbors\n",
    "idx = np.argsort(D)[:,::-1][:,:k] # indices of k nearest neighbors\n",
    "Dnot_sorted = np.copy(D)\n",
    "D.sort(axis=1)\n",
    "D[:] = D[:,::-1]\n",
    "Dsorted = np.copy(D)\n",
    "\n",
    "# Cosine distance\n",
    "Dcos = # YOUR CODE HERE \n",
    "D = Dcos\n",
    "D = D[:,:k]\n",
    "print(D.shape)\n",
    "\n",
    "# Compute Weight matrix\n",
    "sigma2 = np.mean(D[:,-1])**2 # graph scale\n",
    "W = np.exp(- D**2 / sigma2)\n",
    "#print(W.shape)\n",
    "\n",
    "# Make W sparse\n",
    "n = X.shape[0]\n",
    "row = np.arange(0, n).repeat(k)\n",
    "col = idx.reshape(n*k)\n",
    "data = W.reshape(n*k)\n",
    "W = scipy.sparse.csr_matrix((data, (row, col)), shape=(n, n))\n",
    "\n",
    "# Make W is symmetric\n",
    "bigger = W.T > W\n",
    "W = W - W.multiply(bigger) + W.T.multiply(bigger)\n",
    "\n",
    "# No self-connections\n",
    "#W.setdiag(0)\n",
    "\n",
    "print(W.shape)\n",
    "print(W.nnz)\n"
   ]
  },
  {
   "cell_type": "code",
   "execution_count": null,
   "metadata": {},
   "outputs": [],
   "source": [
    "# Visualize distances\n",
    "fig, (ax1, ax2) = plt.subplots(1,2)\n",
    "#fig.suptitle('Title of figure 2', fontsize=15)\n",
    "\n",
    "ax1.set_title('Euclidean distances for all data points')\n",
    "im1 = ax1.imshow(Dnot_sorted, interpolation='nearest')\n",
    "divider1 = make_axes_locatable(ax1)\n",
    "cax1 = divider1.append_axes(\"right\", size=\"10%\", pad=0.1)\n",
    "ax1.get_figure().colorbar(im1, cax=cax1)\n",
    "\n",
    "ax2.set_title('Sorted distances')\n",
    "im2 = ax2.imshow(Dsorted, interpolation='nearest')\n",
    "divider2 = make_axes_locatable(ax2)\n",
    "cax2 = divider2.append_axes(\"right\", size=\"10%\", pad=0.1)\n",
    "ax2.get_figure().colorbar(im2, cax=cax2)\n",
    "\n",
    "fig.tight_layout()\n",
    "\n",
    "fig.show()\n"
   ]
  },
  {
   "cell_type": "code",
   "execution_count": null,
   "metadata": {},
   "outputs": [],
   "source": [
    "plt.figure(7)\n",
    "plt.spy(W,precision=0.01, markersize=1, color=pyplot.jet())\n",
    "plt.show()\n"
   ]
  },
  {
   "cell_type": "code",
   "execution_count": null,
   "metadata": {},
   "outputs": [],
   "source": [
    "Cncut, acc = compute_ncut(W, C, 2)\n",
    "print(acc)\n"
   ]
  },
  {
   "cell_type": "code",
   "execution_count": null,
   "metadata": {},
   "outputs": [],
   "source": [
    "plt.figure(8)\n",
    "plt.scatter(X[:,0], X[:,1], s=size_vertex_plot*np.ones(n), c=Cncut, color=pyplot.jet())\n",
    "plt.title('Clustering result with EUCLIDEAN distance, ACCURACY= '+ str(acc))\n",
    "plt.show()\n"
   ]
  },
  {
   "cell_type": "code",
   "execution_count": null,
   "metadata": {},
   "outputs": [],
   "source": []
  },
  {
   "cell_type": "code",
   "execution_count": null,
   "metadata": {},
   "outputs": [],
   "source": []
  }
 ],
 "metadata": {
  "kernelspec": {
   "display_name": "Python 3 (ipykernel)",
   "language": "python",
   "name": "python3"
  },
  "language_info": {
   "codemirror_mode": {
    "name": "ipython",
    "version": 3
   },
   "file_extension": ".py",
   "mimetype": "text/x-python",
   "name": "python",
   "nbconvert_exporter": "python",
   "pygments_lexer": "ipython3",
   "version": "3.8.19"
  }
 },
 "nbformat": 4,
 "nbformat_minor": 4
}
